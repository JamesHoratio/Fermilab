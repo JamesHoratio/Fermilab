{
 "cells": [
  {
   "cell_type": "code",
   "execution_count": 2,
   "metadata": {},
   "outputs": [
    {
     "name": "stdout",
     "output_type": "stream",
     "text": [
      "Error listing resources: VI_ERROR_INV_EXPR (-1073807344): Invalid expression specified for search.\n",
      "No VISA resources found.\n"
     ]
    }
   ],
   "source": [
    "import pyvisa\n",
    "\n",
    "# Initialize the resource manager\n",
    "rm = pyvisa.ResourceManager()\n",
    "\n",
    "resources = []  # Initialize the resources variable\n",
    "\n",
    "try:\n",
    "    # List available resources\n",
    "    resources = rm.list_resources()\n",
    "    print(f'Available resources: {resources}')\n",
    "\n",
    "    # Attempt to open each resource and identify the instrument\n",
    "    for resource in resources:\n",
    "        try:\n",
    "            inst = rm.open_resource(resource)\n",
    "            # Query the instrument ID to verify connection\n",
    "            response = inst.query('*IDN?')\n",
    "            print(f'Connected to: {response} at {resource}')\n",
    "\n",
    "            # Query the current GPIB address\n",
    "            current_address = inst.query('SYST:COMM:GPIB:ADDR?')\n",
    "            print(f'Current GPIB Address: {current_address}')\n",
    "\n",
    "            # Set a new GPIB address (example: setting to address 8)\n",
    "            new_address = 8\n",
    "            inst.write(f'SYST:COMM:GPIB:ADDR {new_address}')\n",
    "            print(f'GPIB Address set to: {new_address}')\n",
    "\n",
    "            # Close the resource\n",
    "            inst.close()\n",
    "            break  # Exit loop if connection is successful\n",
    "        except pyvisa.errors.VisaIOError as e:\n",
    "            print(f'Could not connect to {resource}: {e}')\n",
    "            continue  # Try the next resource if connection fails\n",
    "except pyvisa.errors.VisaIOError as e:\n",
    "    print(f'Error listing resources: {e}')\n",
    "\n",
    "if not resources:\n",
    "    print('No VISA resources found.')\n",
    "\n"
   ]
  },
  {
   "cell_type": "code",
   "execution_count": 3,
   "metadata": {},
   "outputs": [
    {
     "name": "stdout",
     "output_type": "stream",
     "text": [
      "Available resources: ()\n",
      "No VISA resources found.\n"
     ]
    }
   ],
   "source": [
    "import pyvisa\n",
    "\n",
    "# Initialize the resource manager with the pyvisa-py backend\n",
    "rm = pyvisa.ResourceManager('@py')\n",
    "\n",
    "try:\n",
    "    # List available resources\n",
    "    resources = rm.list_resources()\n",
    "    print(f'Available resources: {resources}')\n",
    "\n",
    "    # Attempt to open each resource and identify the instrument\n",
    "    for resource in resources:\n",
    "        try:\n",
    "            inst = rm.open_resource(resource)\n",
    "            # Query the instrument ID to verify connection\n",
    "            response = inst.query('*IDN?')\n",
    "            print(f'Connected to: {response} at {resource}')\n",
    "\n",
    "            # Query the current GPIB address\n",
    "            current_address = inst.query('SYST:COMM:GPIB:ADDR?')\n",
    "            print(f'Current GPIB Address: {current_address}')\n",
    "\n",
    "            # Set a new GPIB address (example: setting to address 8)\n",
    "            new_address = 8\n",
    "            inst.write(f'SYST:COMM:GPIB:ADDR {new_address}')\n",
    "            print(f'GPIB Address set to: {new_address}')\n",
    "\n",
    "            # Close the resource\n",
    "            inst.close()\n",
    "            break  # Exit loop if connection is successful\n",
    "        except pyvisa.errors.VisaIOError as e:\n",
    "            print(f'Could not connect to {resource}: {e}')\n",
    "            continue  # Try the next resource if connection fails\n",
    "except pyvisa.errors.VisaIOError as e:\n",
    "    print(f'Error listing resources: {e}')\n",
    "\n",
    "if not resources:\n",
    "    print('No VISA resources found.')\n"
   ]
  },
  {
   "cell_type": "code",
   "execution_count": 5,
   "metadata": {},
   "outputs": [
    {
     "name": "stdout",
     "output_type": "stream",
     "text": [
      "Error: VI_ERROR_INV_EXPR (-1073807344): Invalid expression specified for search.\n"
     ]
    }
   ],
   "source": [
    "import pyvisa\n",
    "\n",
    "# Initialize the resource manager using the NI backend\n",
    "rm = pyvisa.ResourceManager()\n",
    "\n",
    "try:\n",
    "    # List available resources\n",
    "    resources = rm.list_resources()\n",
    "    print(f'Available resources: {resources}')\n",
    "\n",
    "    if resources:\n",
    "        # Open the first available resource\n",
    "        inst = rm.open_resource(resources[0])\n",
    "\n",
    "        # Query the instrument ID to verify connection\n",
    "        response = inst.query('*IDN?')\n",
    "        print(f'Connected to: {response} at {resources[0]}')\n",
    "\n",
    "        # Close the resource\n",
    "        inst.close()\n",
    "    else:\n",
    "        print('No VISA resources found.')\n",
    "except pyvisa.errors.VisaIOError as e:\n",
    "    print(f'Error: {e}')\n"
   ]
  },
  {
   "cell_type": "code",
   "execution_count": 1,
   "metadata": {},
   "outputs": [
    {
     "name": "stdout",
     "output_type": "stream",
     "text": [
      "Error listing resources: VI_ERROR_INV_EXPR (-1073807344): Invalid expression specified for search.\n"
     ]
    }
   ],
   "source": [
    "import pyvisa\n",
    "\n",
    "# Initialize the resource manager\n",
    "rm = pyvisa.ResourceManager()\n",
    "\n",
    "try:\n",
    "    # Use a more general query to list all instruments\n",
    "    resources = rm.list_resources('TCP*')\n",
    "    print(f'Available resources: {resources}')\n",
    "    \n",
    "    for resource in resources:\n",
    "        print(f'Trying resource: {resource}')\n",
    "        try:\n",
    "            inst = rm.open_resource(resource)\n",
    "            response = inst.query('*IDN?')\n",
    "            print(f'Connected to: {response} at {resource}')\n",
    "            inst.close()\n",
    "        except Exception as e:\n",
    "            print(f'Error connecting to {resource}: {e}')\n",
    "except Exception as e:\n",
    "    print(f'Error listing resources: {e}')\n"
   ]
  }
 ],
 "metadata": {
  "kernelspec": {
   "display_name": "Python 3",
   "language": "python",
   "name": "python3"
  },
  "language_info": {
   "codemirror_mode": {
    "name": "ipython",
    "version": 3
   },
   "file_extension": ".py",
   "mimetype": "text/x-python",
   "name": "python",
   "nbconvert_exporter": "python",
   "pygments_lexer": "ipython3",
   "version": "3.12.4"
  }
 },
 "nbformat": 4,
 "nbformat_minor": 2
}
