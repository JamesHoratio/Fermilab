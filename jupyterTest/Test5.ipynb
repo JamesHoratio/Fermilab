{
 "cells": [
  {
   "cell_type": "code",
   "execution_count": 1,
   "metadata": {},
   "outputs": [
    {
     "name": "stdout",
     "output_type": "stream",
     "text": [
      "Keithley 6221 ID:  KEITHLEY INSTRUMENTS INC.,MODEL 6221,4483467,D04  /700x \n",
      "\n",
      "Keithley 2182A Presence:  1\n"
     ]
    }
   ],
   "source": [
    "import pyvisa\n",
    "\n",
    "# Initialize the VISA resource manager\n",
    "rm = pyvisa.ResourceManager()\n",
    "\n",
    "# Open the connection to the Keithley 6221 using the correct IP address and connection settings\n",
    "keithley6221 = rm.open_resource('GPIB0::12::INSTR')\n",
    "\n",
    "# Verify the connection to the 6221 by querying its ID\n",
    "print(\"Keithley 6221 ID: \", keithley6221.query('*IDN?'))\n",
    "\n",
    "try:\n",
    "    # Send the command to check the presence of the 2182A\n",
    "    response = keithley6221.query('SOUR:DELT:NVPR?')\n",
    "    print(\"Keithley 2182A Presence: \", response.strip())\n",
    "except pyvisa.errors.VisaIOError as e:\n",
    "    print(f\"VISA IO Error: {e}\")\n",
    "except Exception as e:\n",
    "    print(f\"Error: {e}\")\n",
    "\n",
    "# Close the connection\n",
    "keithley6221.close()\n"
   ]
  },
  {
   "cell_type": "code",
   "execution_count": null,
   "metadata": {},
   "outputs": [],
   "source": [
    "import pyvisa\n",
    "\n",
    "# Initialize the VISA resource manager\n",
    "rm = pyvisa.ResourceManager()\n",
    "\n",
    "# Open the connection to the Keithley 6221 using the correct IP address and connection settings\n",
    "keithley6221 = rm.open_resource('TCPIP::1::INSTR')\n",
    "\n",
    "# Verify the connection to the 6221 by querying its ID\n",
    "print(\"Keithley 6221 ID: \", keithley6221.query('*IDN?'))\n",
    "\n",
    "try:\n",
    "    # Send the command to check the presence of the 2182A\n",
    "    response = keithley6221.query('SOUR:DELT:NVPR?')\n",
    "    print(\"Keithley 2182A Presence: \", response.strip())\n",
    "except pyvisa.errors.VisaIOError as e:\n",
    "    print(f\"VISA IO Error: {e}\")\n",
    "except Exception as e:\n",
    "    print(f\"Error: {e}\")\n",
    "\n",
    "# Close the connection\n",
    "keithley6221.close()\n"
   ]
  }
 ],
 "metadata": {
  "kernelspec": {
   "display_name": "Python 3",
   "language": "python",
   "name": "python3"
  },
  "language_info": {
   "codemirror_mode": {
    "name": "ipython",
    "version": 3
   },
   "file_extension": ".py",
   "mimetype": "text/x-python",
   "name": "python",
   "nbconvert_exporter": "python",
   "pygments_lexer": "ipython3",
   "version": "3.12.4"
  }
 },
 "nbformat": 4,
 "nbformat_minor": 2
}
