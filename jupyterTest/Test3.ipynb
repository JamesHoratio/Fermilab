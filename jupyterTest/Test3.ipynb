{
 "cells": [
  {
   "cell_type": "code",
   "execution_count": 5,
   "metadata": {},
   "outputs": [
    {
     "ename": "VisaIOError",
     "evalue": "VI_ERROR_INV_EXPR (-1073807344): Invalid expression specified for search.",
     "output_type": "error",
     "traceback": [
      "\u001b[1;31m---------------------------------------------------------------------------\u001b[0m",
      "\u001b[1;31mVisaIOError\u001b[0m                               Traceback (most recent call last)",
      "Cell \u001b[1;32mIn[5], line 5\u001b[0m\n\u001b[0;32m      2\u001b[0m rm \u001b[38;5;241m=\u001b[39m pyvisa\u001b[38;5;241m.\u001b[39mResourceManager()\n\u001b[0;32m      4\u001b[0m \u001b[38;5;66;03m# List all connected resources\u001b[39;00m\n\u001b[1;32m----> 5\u001b[0m resources \u001b[38;5;241m=\u001b[39m \u001b[43mrm\u001b[49m\u001b[38;5;241;43m.\u001b[39;49m\u001b[43mlist_resources\u001b[49m\u001b[43m(\u001b[49m\u001b[38;5;124;43m\"\u001b[39;49m\u001b[38;5;124;43m?*\u001b[39;49m\u001b[38;5;124;43m\"\u001b[39;49m\u001b[43m)\u001b[49m\n\u001b[0;32m      6\u001b[0m \u001b[38;5;28mprint\u001b[39m(resources)\n",
      "File \u001b[1;32mc:\\Users\\jhaller\\AppData\\Local\\Programs\\Python\\Python312\\Lib\\site-packages\\pyvisa\\highlevel.py:3137\u001b[0m, in \u001b[0;36mResourceManager.list_resources\u001b[1;34m(self, query)\u001b[0m\n\u001b[0;32m   3089\u001b[0m \u001b[38;5;28;01mdef\u001b[39;00m \u001b[38;5;21mlist_resources\u001b[39m(\u001b[38;5;28mself\u001b[39m, query: \u001b[38;5;28mstr\u001b[39m \u001b[38;5;241m=\u001b[39m \u001b[38;5;124m\"\u001b[39m\u001b[38;5;124m?*::INSTR\u001b[39m\u001b[38;5;124m\"\u001b[39m) \u001b[38;5;241m-\u001b[39m\u001b[38;5;241m>\u001b[39m Tuple[\u001b[38;5;28mstr\u001b[39m, \u001b[38;5;241m.\u001b[39m\u001b[38;5;241m.\u001b[39m\u001b[38;5;241m.\u001b[39m]:\n\u001b[0;32m   3090\u001b[0m \u001b[38;5;250m    \u001b[39m\u001b[38;5;124mr\u001b[39m\u001b[38;5;124;03m\"\"\"Return a tuple of all connected devices matching query.\u001b[39;00m\n\u001b[0;32m   3091\u001b[0m \n\u001b[0;32m   3092\u001b[0m \u001b[38;5;124;03m    Notes\u001b[39;00m\n\u001b[1;32m   (...)\u001b[0m\n\u001b[0;32m   3134\u001b[0m \n\u001b[0;32m   3135\u001b[0m \u001b[38;5;124;03m    \"\"\"\u001b[39;00m\n\u001b[1;32m-> 3137\u001b[0m     \u001b[38;5;28;01mreturn\u001b[39;00m \u001b[38;5;28;43mself\u001b[39;49m\u001b[38;5;241;43m.\u001b[39;49m\u001b[43mvisalib\u001b[49m\u001b[38;5;241;43m.\u001b[39;49m\u001b[43mlist_resources\u001b[49m\u001b[43m(\u001b[49m\u001b[38;5;28;43mself\u001b[39;49m\u001b[38;5;241;43m.\u001b[39;49m\u001b[43msession\u001b[49m\u001b[43m,\u001b[49m\u001b[43m \u001b[49m\u001b[43mquery\u001b[49m\u001b[43m)\u001b[49m\n",
      "File \u001b[1;32mc:\\Users\\jhaller\\AppData\\Local\\Programs\\Python\\Python312\\Lib\\site-packages\\pyvisa\\ctwrapper\\highlevel.py:296\u001b[0m, in \u001b[0;36mIVIVisaLibrary.list_resources\u001b[1;34m(self, session, query)\u001b[0m\n\u001b[0;32m    294\u001b[0m     \u001b[38;5;28;01mif\u001b[39;00m e\u001b[38;5;241m.\u001b[39merror_code \u001b[38;5;241m==\u001b[39m constants\u001b[38;5;241m.\u001b[39mStatusCode\u001b[38;5;241m.\u001b[39merror_resource_not_found:\n\u001b[0;32m    295\u001b[0m         \u001b[38;5;28;01mreturn\u001b[39;00m \u001b[38;5;28mtuple\u001b[39m()\n\u001b[1;32m--> 296\u001b[0m     \u001b[38;5;28;01mraise\u001b[39;00m e\n\u001b[0;32m    298\u001b[0m \u001b[38;5;28;01mtry\u001b[39;00m:\n\u001b[0;32m    299\u001b[0m     resources\u001b[38;5;241m.\u001b[39mappend(instrument_description)\n",
      "File \u001b[1;32mc:\\Users\\jhaller\\AppData\\Local\\Programs\\Python\\Python312\\Lib\\site-packages\\pyvisa\\ctwrapper\\highlevel.py:290\u001b[0m, in \u001b[0;36mIVIVisaLibrary.list_resources\u001b[1;34m(self, session, query)\u001b[0m\n\u001b[0;32m    283\u001b[0m \u001b[38;5;66;03m# Ignore some type checks because method are dynamically set\u001b[39;00m\n\u001b[0;32m    284\u001b[0m \u001b[38;5;28;01mtry\u001b[39;00m:\n\u001b[0;32m    285\u001b[0m     (\n\u001b[0;32m    286\u001b[0m         find_list,\n\u001b[0;32m    287\u001b[0m         return_counter,\n\u001b[0;32m    288\u001b[0m         instrument_description,\n\u001b[0;32m    289\u001b[0m         err,\n\u001b[1;32m--> 290\u001b[0m     ) \u001b[38;5;241m=\u001b[39m \u001b[38;5;28;43mself\u001b[39;49m\u001b[38;5;241;43m.\u001b[39;49m\u001b[43m_find_resources\u001b[49m\u001b[43m(\u001b[49m\u001b[43m  \u001b[49m\u001b[38;5;66;43;03m# type: ignore\u001b[39;49;00m\n\u001b[0;32m    291\u001b[0m \u001b[43m        \u001b[49m\u001b[43msession\u001b[49m\u001b[43m,\u001b[49m\u001b[43m \u001b[49m\u001b[43mquery\u001b[49m\n\u001b[0;32m    292\u001b[0m \u001b[43m    \u001b[49m\u001b[43m)\u001b[49m\n\u001b[0;32m    293\u001b[0m \u001b[38;5;28;01mexcept\u001b[39;00m errors\u001b[38;5;241m.\u001b[39mVisaIOError \u001b[38;5;28;01mas\u001b[39;00m e:\n\u001b[0;32m    294\u001b[0m     \u001b[38;5;28;01mif\u001b[39;00m e\u001b[38;5;241m.\u001b[39merror_code \u001b[38;5;241m==\u001b[39m constants\u001b[38;5;241m.\u001b[39mStatusCode\u001b[38;5;241m.\u001b[39merror_resource_not_found:\n",
      "File \u001b[1;32mc:\\Users\\jhaller\\AppData\\Local\\Programs\\Python\\Python312\\Lib\\site-packages\\pyvisa\\ctwrapper\\functions.py:782\u001b[0m, in \u001b[0;36m_find_resources\u001b[1;34m(library, session, query)\u001b[0m\n\u001b[0;32m    779\u001b[0m return_counter \u001b[38;5;241m=\u001b[39m ViUInt32()\n\u001b[0;32m    780\u001b[0m instrument_description \u001b[38;5;241m=\u001b[39m create_string_buffer(constants\u001b[38;5;241m.\u001b[39mVI_FIND_BUFLEN)\n\u001b[1;32m--> 782\u001b[0m ret \u001b[38;5;241m=\u001b[39m \u001b[43mlibrary\u001b[49m\u001b[38;5;241;43m.\u001b[39;49m\u001b[43mviFindRsrc\u001b[49m\u001b[43m(\u001b[49m\n\u001b[0;32m    783\u001b[0m \u001b[43m    \u001b[49m\u001b[43msession\u001b[49m\u001b[43m,\u001b[49m\u001b[43m \u001b[49m\u001b[43mquery\u001b[49m\u001b[43m,\u001b[49m\u001b[43m \u001b[49m\u001b[43mbyref\u001b[49m\u001b[43m(\u001b[49m\u001b[43mfind_list\u001b[49m\u001b[43m)\u001b[49m\u001b[43m,\u001b[49m\u001b[43m \u001b[49m\u001b[43mbyref\u001b[49m\u001b[43m(\u001b[49m\u001b[43mreturn_counter\u001b[49m\u001b[43m)\u001b[49m\u001b[43m,\u001b[49m\u001b[43m \u001b[49m\u001b[43minstrument_description\u001b[49m\n\u001b[0;32m    784\u001b[0m \u001b[43m\u001b[49m\u001b[43m)\u001b[49m\n\u001b[0;32m    785\u001b[0m \u001b[38;5;28;01mreturn\u001b[39;00m find_list, return_counter\u001b[38;5;241m.\u001b[39mvalue, buffer_to_text(instrument_description), ret\n",
      "File \u001b[1;32mc:\\Users\\jhaller\\AppData\\Local\\Programs\\Python\\Python312\\Lib\\site-packages\\pyvisa\\ctwrapper\\highlevel.py:226\u001b[0m, in \u001b[0;36mIVIVisaLibrary._return_handler\u001b[1;34m(self, ret_value, func, arguments)\u001b[0m\n\u001b[0;32m    223\u001b[0m         \u001b[38;5;66;03m# Set session back to a safe value\u001b[39;00m\n\u001b[0;32m    224\u001b[0m         session \u001b[38;5;241m=\u001b[39m \u001b[38;5;28;01mNone\u001b[39;00m\n\u001b[1;32m--> 226\u001b[0m \u001b[38;5;28;01mreturn\u001b[39;00m \u001b[38;5;28;43mself\u001b[39;49m\u001b[38;5;241;43m.\u001b[39;49m\u001b[43mhandle_return_value\u001b[49m\u001b[43m(\u001b[49m\u001b[43msession\u001b[49m\u001b[43m,\u001b[49m\u001b[43m \u001b[49m\u001b[43mret_value\u001b[49m\u001b[43m)\u001b[49m\n",
      "File \u001b[1;32mc:\\Users\\jhaller\\AppData\\Local\\Programs\\Python\\Python312\\Lib\\site-packages\\pyvisa\\highlevel.py:251\u001b[0m, in \u001b[0;36mVisaLibraryBase.handle_return_value\u001b[1;34m(self, session, status_code)\u001b[0m\n\u001b[0;32m    248\u001b[0m     \u001b[38;5;28mself\u001b[39m\u001b[38;5;241m.\u001b[39m_last_status_in_session[session] \u001b[38;5;241m=\u001b[39m rv\n\u001b[0;32m    250\u001b[0m \u001b[38;5;28;01mif\u001b[39;00m rv \u001b[38;5;241m<\u001b[39m \u001b[38;5;241m0\u001b[39m:\n\u001b[1;32m--> 251\u001b[0m     \u001b[38;5;28;01mraise\u001b[39;00m errors\u001b[38;5;241m.\u001b[39mVisaIOError(rv)\n\u001b[0;32m    253\u001b[0m \u001b[38;5;28;01mif\u001b[39;00m rv \u001b[38;5;129;01min\u001b[39;00m \u001b[38;5;28mself\u001b[39m\u001b[38;5;241m.\u001b[39missue_warning_on:\n\u001b[0;32m    254\u001b[0m     \u001b[38;5;28;01mif\u001b[39;00m session \u001b[38;5;129;01mand\u001b[39;00m rv \u001b[38;5;129;01mnot\u001b[39;00m \u001b[38;5;129;01min\u001b[39;00m \u001b[38;5;28mself\u001b[39m\u001b[38;5;241m.\u001b[39m_ignore_warning_in_session[session]:\n",
      "\u001b[1;31mVisaIOError\u001b[0m: VI_ERROR_INV_EXPR (-1073807344): Invalid expression specified for search."
     ]
    }
   ],
   "source": [
    "import pyvisa\n",
    "rm = pyvisa.ResourceManager()\n",
    "\n",
    "# List all connected resources\n",
    "resources = rm.list_resources(\"?*\")\n",
    "print(resources)\n",
    "\n"
   ]
  },
  {
   "cell_type": "code",
   "execution_count": 6,
   "metadata": {},
   "outputs": [
    {
     "ename": "VisaIOError",
     "evalue": "VI_ERROR_INV_EXPR (-1073807344): Invalid expression specified for search.",
     "output_type": "error",
     "traceback": [
      "\u001b[1;31m---------------------------------------------------------------------------\u001b[0m",
      "\u001b[1;31mVisaIOError\u001b[0m                               Traceback (most recent call last)",
      "Cell \u001b[1;32mIn[6], line 7\u001b[0m\n\u001b[0;32m      4\u001b[0m rm \u001b[38;5;241m=\u001b[39m pyvisa\u001b[38;5;241m.\u001b[39mResourceManager()\n\u001b[0;32m      6\u001b[0m \u001b[38;5;66;03m# List all available resources to verify if the Keithley 6221 is detected\u001b[39;00m\n\u001b[1;32m----> 7\u001b[0m resources \u001b[38;5;241m=\u001b[39m \u001b[43mrm\u001b[49m\u001b[38;5;241;43m.\u001b[39;49m\u001b[43mlist_resources\u001b[49m\u001b[43m(\u001b[49m\u001b[43m)\u001b[49m\n\u001b[0;32m      8\u001b[0m \u001b[38;5;28mprint\u001b[39m(\u001b[38;5;124m\"\u001b[39m\u001b[38;5;124mAvailable resources:\u001b[39m\u001b[38;5;124m\"\u001b[39m, resources)\n",
      "File \u001b[1;32mc:\\Users\\jhaller\\AppData\\Local\\Programs\\Python\\Python312\\Lib\\site-packages\\pyvisa\\highlevel.py:3137\u001b[0m, in \u001b[0;36mResourceManager.list_resources\u001b[1;34m(self, query)\u001b[0m\n\u001b[0;32m   3089\u001b[0m \u001b[38;5;28;01mdef\u001b[39;00m \u001b[38;5;21mlist_resources\u001b[39m(\u001b[38;5;28mself\u001b[39m, query: \u001b[38;5;28mstr\u001b[39m \u001b[38;5;241m=\u001b[39m \u001b[38;5;124m\"\u001b[39m\u001b[38;5;124m?*::INSTR\u001b[39m\u001b[38;5;124m\"\u001b[39m) \u001b[38;5;241m-\u001b[39m\u001b[38;5;241m>\u001b[39m Tuple[\u001b[38;5;28mstr\u001b[39m, \u001b[38;5;241m.\u001b[39m\u001b[38;5;241m.\u001b[39m\u001b[38;5;241m.\u001b[39m]:\n\u001b[0;32m   3090\u001b[0m \u001b[38;5;250m    \u001b[39m\u001b[38;5;124mr\u001b[39m\u001b[38;5;124;03m\"\"\"Return a tuple of all connected devices matching query.\u001b[39;00m\n\u001b[0;32m   3091\u001b[0m \n\u001b[0;32m   3092\u001b[0m \u001b[38;5;124;03m    Notes\u001b[39;00m\n\u001b[1;32m   (...)\u001b[0m\n\u001b[0;32m   3134\u001b[0m \n\u001b[0;32m   3135\u001b[0m \u001b[38;5;124;03m    \"\"\"\u001b[39;00m\n\u001b[1;32m-> 3137\u001b[0m     \u001b[38;5;28;01mreturn\u001b[39;00m \u001b[38;5;28;43mself\u001b[39;49m\u001b[38;5;241;43m.\u001b[39;49m\u001b[43mvisalib\u001b[49m\u001b[38;5;241;43m.\u001b[39;49m\u001b[43mlist_resources\u001b[49m\u001b[43m(\u001b[49m\u001b[38;5;28;43mself\u001b[39;49m\u001b[38;5;241;43m.\u001b[39;49m\u001b[43msession\u001b[49m\u001b[43m,\u001b[49m\u001b[43m \u001b[49m\u001b[43mquery\u001b[49m\u001b[43m)\u001b[49m\n",
      "File \u001b[1;32mc:\\Users\\jhaller\\AppData\\Local\\Programs\\Python\\Python312\\Lib\\site-packages\\pyvisa\\ctwrapper\\highlevel.py:296\u001b[0m, in \u001b[0;36mIVIVisaLibrary.list_resources\u001b[1;34m(self, session, query)\u001b[0m\n\u001b[0;32m    294\u001b[0m     \u001b[38;5;28;01mif\u001b[39;00m e\u001b[38;5;241m.\u001b[39merror_code \u001b[38;5;241m==\u001b[39m constants\u001b[38;5;241m.\u001b[39mStatusCode\u001b[38;5;241m.\u001b[39merror_resource_not_found:\n\u001b[0;32m    295\u001b[0m         \u001b[38;5;28;01mreturn\u001b[39;00m \u001b[38;5;28mtuple\u001b[39m()\n\u001b[1;32m--> 296\u001b[0m     \u001b[38;5;28;01mraise\u001b[39;00m e\n\u001b[0;32m    298\u001b[0m \u001b[38;5;28;01mtry\u001b[39;00m:\n\u001b[0;32m    299\u001b[0m     resources\u001b[38;5;241m.\u001b[39mappend(instrument_description)\n",
      "File \u001b[1;32mc:\\Users\\jhaller\\AppData\\Local\\Programs\\Python\\Python312\\Lib\\site-packages\\pyvisa\\ctwrapper\\highlevel.py:290\u001b[0m, in \u001b[0;36mIVIVisaLibrary.list_resources\u001b[1;34m(self, session, query)\u001b[0m\n\u001b[0;32m    283\u001b[0m \u001b[38;5;66;03m# Ignore some type checks because method are dynamically set\u001b[39;00m\n\u001b[0;32m    284\u001b[0m \u001b[38;5;28;01mtry\u001b[39;00m:\n\u001b[0;32m    285\u001b[0m     (\n\u001b[0;32m    286\u001b[0m         find_list,\n\u001b[0;32m    287\u001b[0m         return_counter,\n\u001b[0;32m    288\u001b[0m         instrument_description,\n\u001b[0;32m    289\u001b[0m         err,\n\u001b[1;32m--> 290\u001b[0m     ) \u001b[38;5;241m=\u001b[39m \u001b[38;5;28;43mself\u001b[39;49m\u001b[38;5;241;43m.\u001b[39;49m\u001b[43m_find_resources\u001b[49m\u001b[43m(\u001b[49m\u001b[43m  \u001b[49m\u001b[38;5;66;43;03m# type: ignore\u001b[39;49;00m\n\u001b[0;32m    291\u001b[0m \u001b[43m        \u001b[49m\u001b[43msession\u001b[49m\u001b[43m,\u001b[49m\u001b[43m \u001b[49m\u001b[43mquery\u001b[49m\n\u001b[0;32m    292\u001b[0m \u001b[43m    \u001b[49m\u001b[43m)\u001b[49m\n\u001b[0;32m    293\u001b[0m \u001b[38;5;28;01mexcept\u001b[39;00m errors\u001b[38;5;241m.\u001b[39mVisaIOError \u001b[38;5;28;01mas\u001b[39;00m e:\n\u001b[0;32m    294\u001b[0m     \u001b[38;5;28;01mif\u001b[39;00m e\u001b[38;5;241m.\u001b[39merror_code \u001b[38;5;241m==\u001b[39m constants\u001b[38;5;241m.\u001b[39mStatusCode\u001b[38;5;241m.\u001b[39merror_resource_not_found:\n",
      "File \u001b[1;32mc:\\Users\\jhaller\\AppData\\Local\\Programs\\Python\\Python312\\Lib\\site-packages\\pyvisa\\ctwrapper\\functions.py:782\u001b[0m, in \u001b[0;36m_find_resources\u001b[1;34m(library, session, query)\u001b[0m\n\u001b[0;32m    779\u001b[0m return_counter \u001b[38;5;241m=\u001b[39m ViUInt32()\n\u001b[0;32m    780\u001b[0m instrument_description \u001b[38;5;241m=\u001b[39m create_string_buffer(constants\u001b[38;5;241m.\u001b[39mVI_FIND_BUFLEN)\n\u001b[1;32m--> 782\u001b[0m ret \u001b[38;5;241m=\u001b[39m \u001b[43mlibrary\u001b[49m\u001b[38;5;241;43m.\u001b[39;49m\u001b[43mviFindRsrc\u001b[49m\u001b[43m(\u001b[49m\n\u001b[0;32m    783\u001b[0m \u001b[43m    \u001b[49m\u001b[43msession\u001b[49m\u001b[43m,\u001b[49m\u001b[43m \u001b[49m\u001b[43mquery\u001b[49m\u001b[43m,\u001b[49m\u001b[43m \u001b[49m\u001b[43mbyref\u001b[49m\u001b[43m(\u001b[49m\u001b[43mfind_list\u001b[49m\u001b[43m)\u001b[49m\u001b[43m,\u001b[49m\u001b[43m \u001b[49m\u001b[43mbyref\u001b[49m\u001b[43m(\u001b[49m\u001b[43mreturn_counter\u001b[49m\u001b[43m)\u001b[49m\u001b[43m,\u001b[49m\u001b[43m \u001b[49m\u001b[43minstrument_description\u001b[49m\n\u001b[0;32m    784\u001b[0m \u001b[43m\u001b[49m\u001b[43m)\u001b[49m\n\u001b[0;32m    785\u001b[0m \u001b[38;5;28;01mreturn\u001b[39;00m find_list, return_counter\u001b[38;5;241m.\u001b[39mvalue, buffer_to_text(instrument_description), ret\n",
      "File \u001b[1;32mc:\\Users\\jhaller\\AppData\\Local\\Programs\\Python\\Python312\\Lib\\site-packages\\pyvisa\\ctwrapper\\highlevel.py:226\u001b[0m, in \u001b[0;36mIVIVisaLibrary._return_handler\u001b[1;34m(self, ret_value, func, arguments)\u001b[0m\n\u001b[0;32m    223\u001b[0m         \u001b[38;5;66;03m# Set session back to a safe value\u001b[39;00m\n\u001b[0;32m    224\u001b[0m         session \u001b[38;5;241m=\u001b[39m \u001b[38;5;28;01mNone\u001b[39;00m\n\u001b[1;32m--> 226\u001b[0m \u001b[38;5;28;01mreturn\u001b[39;00m \u001b[38;5;28;43mself\u001b[39;49m\u001b[38;5;241;43m.\u001b[39;49m\u001b[43mhandle_return_value\u001b[49m\u001b[43m(\u001b[49m\u001b[43msession\u001b[49m\u001b[43m,\u001b[49m\u001b[43m \u001b[49m\u001b[43mret_value\u001b[49m\u001b[43m)\u001b[49m\n",
      "File \u001b[1;32mc:\\Users\\jhaller\\AppData\\Local\\Programs\\Python\\Python312\\Lib\\site-packages\\pyvisa\\highlevel.py:251\u001b[0m, in \u001b[0;36mVisaLibraryBase.handle_return_value\u001b[1;34m(self, session, status_code)\u001b[0m\n\u001b[0;32m    248\u001b[0m     \u001b[38;5;28mself\u001b[39m\u001b[38;5;241m.\u001b[39m_last_status_in_session[session] \u001b[38;5;241m=\u001b[39m rv\n\u001b[0;32m    250\u001b[0m \u001b[38;5;28;01mif\u001b[39;00m rv \u001b[38;5;241m<\u001b[39m \u001b[38;5;241m0\u001b[39m:\n\u001b[1;32m--> 251\u001b[0m     \u001b[38;5;28;01mraise\u001b[39;00m errors\u001b[38;5;241m.\u001b[39mVisaIOError(rv)\n\u001b[0;32m    253\u001b[0m \u001b[38;5;28;01mif\u001b[39;00m rv \u001b[38;5;129;01min\u001b[39;00m \u001b[38;5;28mself\u001b[39m\u001b[38;5;241m.\u001b[39missue_warning_on:\n\u001b[0;32m    254\u001b[0m     \u001b[38;5;28;01mif\u001b[39;00m session \u001b[38;5;129;01mand\u001b[39;00m rv \u001b[38;5;129;01mnot\u001b[39;00m \u001b[38;5;129;01min\u001b[39;00m \u001b[38;5;28mself\u001b[39m\u001b[38;5;241m.\u001b[39m_ignore_warning_in_session[session]:\n",
      "\u001b[1;31mVisaIOError\u001b[0m: VI_ERROR_INV_EXPR (-1073807344): Invalid expression specified for search."
     ]
    }
   ],
   "source": [
    "import pyvisa\n",
    "\n",
    "# Initialize the VISA resource manager\n",
    "rm = pyvisa.ResourceManager()\n",
    "\n",
    "# List all available resources to verify if the Keithley 6221 is detected\n",
    "resources = rm.list_resources()\n",
    "print(\"Available resources:\", resources)"
   ]
  }
 ],
 "metadata": {
  "kernelspec": {
   "display_name": "Python 3",
   "language": "python",
   "name": "python3"
  },
  "language_info": {
   "codemirror_mode": {
    "name": "ipython",
    "version": 3
   },
   "file_extension": ".py",
   "mimetype": "text/x-python",
   "name": "python",
   "nbconvert_exporter": "python",
   "pygments_lexer": "ipython3",
   "version": "3.12.4"
  }
 },
 "nbformat": 4,
 "nbformat_minor": 2
}
