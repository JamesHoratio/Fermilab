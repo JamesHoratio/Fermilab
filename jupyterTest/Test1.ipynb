{
 "cells": [
  {
   "cell_type": "code",
   "execution_count": 6,
   "metadata": {},
   "outputs": [
    {
     "name": "stdout",
     "output_type": "stream",
     "text": [
      "Keithley 6221 ID:  KEITHLEY INSTRUMENTS INC.,MODEL 6221,4483467,D04  /700x \n",
      "\n"
     ]
    }
   ],
   "source": [
    "import pyvisa\n",
    "\n",
    "# Initialize the VISA resource manager\n",
    "rm = pyvisa.ResourceManager()\n",
    "\n",
    "# Open the connection to the Keithley 6221\n",
    "keithley6221 = rm.open_resource('GPIB0::12::INSTR')\n",
    "\n",
    "# Verify the connection to the 6221 by querying its ID\n",
    "print(\"Keithley 6221 ID: \", keithley6221.query('*IDN?'))\n",
    "\n",
    "# Configure the 6221 to send a command to the 2182A via RS-232\n",
    "# For example, querying the ID of the 2182A through the 6221\n",
    "keithley6221.write('DECT:NVPR? \"GPIB0::12::INSTR\"')\n",
    "\n",
    "# Close the connection\n",
    "keithley6221.close()\n"
   ]
  },
  {
   "cell_type": "code",
   "execution_count": 10,
   "metadata": {},
   "outputs": [
    {
     "name": "stdout",
     "output_type": "stream",
     "text": [
      "Keithley 6221 ID:  KEITHLEY INSTRUMENTS INC.,MODEL 6221,4483467,D04  /700x \n",
      "\n"
     ]
    },
    {
     "ename": "VisaIOError",
     "evalue": "VI_ERROR_TMO (-1073807339): Timeout expired before operation completed.",
     "output_type": "error",
     "traceback": [
      "\u001b[1;31m---------------------------------------------------------------------------\u001b[0m",
      "\u001b[1;31mVisaIOError\u001b[0m                               Traceback (most recent call last)",
      "Cell \u001b[1;32mIn[10], line 32\u001b[0m\n\u001b[0;32m     26\u001b[0m keithley6221\u001b[38;5;241m.\u001b[39mwrite(\u001b[38;5;124m'\u001b[39m\u001b[38;5;124m:SYST:COMM:SERIal:SEND \u001b[39m\u001b[38;5;124m\"\u001b[39m\u001b[38;5;124mID?\u001b[39m\u001b[38;5;124m\"\u001b[39m\u001b[38;5;124m'\u001b[39m)\n\u001b[0;32m     28\u001b[0m \u001b[38;5;66;03m# Pause to give the 2182A time to respond\u001b[39;00m\n\u001b[0;32m     29\u001b[0m \u001b[38;5;66;03m#time.sleep(1)\u001b[39;00m\n\u001b[0;32m     30\u001b[0m \n\u001b[0;32m     31\u001b[0m \u001b[38;5;66;03m# Attempt to read the response from the 2182A\u001b[39;00m\n\u001b[1;32m---> 32\u001b[0m response \u001b[38;5;241m=\u001b[39m \u001b[43mkeithley6221\u001b[49m\u001b[38;5;241;43m.\u001b[39;49m\u001b[43mquery\u001b[49m\u001b[43m(\u001b[49m\u001b[38;5;124;43m'\u001b[39;49m\u001b[38;5;124;43m:SYST:COMM:SERIal:SEND \u001b[39;49m\u001b[38;5;124;43m\"\u001b[39;49m\u001b[38;5;124;43m*rst\u001b[39;49m\u001b[38;5;124;43m\"\u001b[39;49m\u001b[38;5;124;43m'\u001b[39;49m\u001b[43m)\u001b[49m\n\u001b[0;32m     33\u001b[0m \u001b[38;5;66;03m# Print the response from the 2182A\u001b[39;00m\n\u001b[0;32m     34\u001b[0m \u001b[38;5;28mprint\u001b[39m(\u001b[38;5;124m\"\u001b[39m\u001b[38;5;124mResponse from Keithley 2182A: \u001b[39m\u001b[38;5;124m\"\u001b[39m, response)\n",
      "File \u001b[1;32mc:\\Users\\jhaller\\AppData\\Local\\Programs\\Python\\Python312\\Lib\\site-packages\\pyvisa\\resources\\messagebased.py:647\u001b[0m, in \u001b[0;36mMessageBasedResource.query\u001b[1;34m(self, message, delay)\u001b[0m\n\u001b[0;32m    644\u001b[0m \u001b[38;5;28;01mif\u001b[39;00m delay \u001b[38;5;241m>\u001b[39m \u001b[38;5;241m0.0\u001b[39m:\n\u001b[0;32m    645\u001b[0m     time\u001b[38;5;241m.\u001b[39msleep(delay)\n\u001b[1;32m--> 647\u001b[0m \u001b[38;5;28;01mreturn\u001b[39;00m \u001b[38;5;28;43mself\u001b[39;49m\u001b[38;5;241;43m.\u001b[39;49m\u001b[43mread\u001b[49m\u001b[43m(\u001b[49m\u001b[43m)\u001b[49m\n",
      "File \u001b[1;32mc:\\Users\\jhaller\\AppData\\Local\\Programs\\Python\\Python312\\Lib\\site-packages\\pyvisa\\resources\\messagebased.py:485\u001b[0m, in \u001b[0;36mMessageBasedResource.read\u001b[1;34m(self, termination, encoding)\u001b[0m\n\u001b[0;32m    483\u001b[0m \u001b[38;5;28;01mif\u001b[39;00m termination \u001b[38;5;129;01mis\u001b[39;00m \u001b[38;5;28;01mNone\u001b[39;00m:\n\u001b[0;32m    484\u001b[0m     termination \u001b[38;5;241m=\u001b[39m \u001b[38;5;28mself\u001b[39m\u001b[38;5;241m.\u001b[39m_read_termination\n\u001b[1;32m--> 485\u001b[0m     message \u001b[38;5;241m=\u001b[39m \u001b[38;5;28;43mself\u001b[39;49m\u001b[38;5;241;43m.\u001b[39;49m\u001b[43m_read_raw\u001b[49m\u001b[43m(\u001b[49m\u001b[43m)\u001b[49m\u001b[38;5;241m.\u001b[39mdecode(enco)\n\u001b[0;32m    486\u001b[0m \u001b[38;5;28;01melse\u001b[39;00m:\n\u001b[0;32m    487\u001b[0m     \u001b[38;5;28;01mwith\u001b[39;00m \u001b[38;5;28mself\u001b[39m\u001b[38;5;241m.\u001b[39mread_termination_context(termination):\n",
      "File \u001b[1;32mc:\\Users\\jhaller\\AppData\\Local\\Programs\\Python\\Python312\\Lib\\site-packages\\pyvisa\\resources\\messagebased.py:441\u001b[0m, in \u001b[0;36mMessageBasedResource._read_raw\u001b[1;34m(self, size)\u001b[0m\n\u001b[0;32m    434\u001b[0m     \u001b[38;5;28;01mwhile\u001b[39;00m status \u001b[38;5;241m==\u001b[39m loop_status:\n\u001b[0;32m    435\u001b[0m         logger\u001b[38;5;241m.\u001b[39mdebug(\n\u001b[0;32m    436\u001b[0m             \u001b[38;5;124m\"\u001b[39m\u001b[38;5;132;01m%s\u001b[39;00m\u001b[38;5;124m - reading \u001b[39m\u001b[38;5;132;01m%d\u001b[39;00m\u001b[38;5;124m bytes (last status \u001b[39m\u001b[38;5;132;01m%r\u001b[39;00m\u001b[38;5;124m)\u001b[39m\u001b[38;5;124m\"\u001b[39m,\n\u001b[0;32m    437\u001b[0m             \u001b[38;5;28mself\u001b[39m\u001b[38;5;241m.\u001b[39m_resource_name,\n\u001b[0;32m    438\u001b[0m             size,\n\u001b[0;32m    439\u001b[0m             status,\n\u001b[0;32m    440\u001b[0m         )\n\u001b[1;32m--> 441\u001b[0m         chunk, status \u001b[38;5;241m=\u001b[39m \u001b[38;5;28;43mself\u001b[39;49m\u001b[38;5;241;43m.\u001b[39;49m\u001b[43mvisalib\u001b[49m\u001b[38;5;241;43m.\u001b[39;49m\u001b[43mread\u001b[49m\u001b[43m(\u001b[49m\u001b[38;5;28;43mself\u001b[39;49m\u001b[38;5;241;43m.\u001b[39;49m\u001b[43msession\u001b[49m\u001b[43m,\u001b[49m\u001b[43m \u001b[49m\u001b[43msize\u001b[49m\u001b[43m)\u001b[49m\n\u001b[0;32m    442\u001b[0m         ret\u001b[38;5;241m.\u001b[39mextend(chunk)\n\u001b[0;32m    443\u001b[0m \u001b[38;5;28;01mexcept\u001b[39;00m errors\u001b[38;5;241m.\u001b[39mVisaIOError \u001b[38;5;28;01mas\u001b[39;00m e:\n",
      "File \u001b[1;32mc:\\Users\\jhaller\\AppData\\Local\\Programs\\Python\\Python312\\Lib\\site-packages\\pyvisa\\ctwrapper\\functions.py:2336\u001b[0m, in \u001b[0;36mread\u001b[1;34m(library, session, count)\u001b[0m\n\u001b[0;32m   2334\u001b[0m buffer \u001b[38;5;241m=\u001b[39m create_string_buffer(count)\n\u001b[0;32m   2335\u001b[0m return_count \u001b[38;5;241m=\u001b[39m ViUInt32()\n\u001b[1;32m-> 2336\u001b[0m ret \u001b[38;5;241m=\u001b[39m \u001b[43mlibrary\u001b[49m\u001b[38;5;241;43m.\u001b[39;49m\u001b[43mviRead\u001b[49m\u001b[43m(\u001b[49m\u001b[43msession\u001b[49m\u001b[43m,\u001b[49m\u001b[43m \u001b[49m\u001b[43mbuffer\u001b[49m\u001b[43m,\u001b[49m\u001b[43m \u001b[49m\u001b[43mcount\u001b[49m\u001b[43m,\u001b[49m\u001b[43m \u001b[49m\u001b[43mbyref\u001b[49m\u001b[43m(\u001b[49m\u001b[43mreturn_count\u001b[49m\u001b[43m)\u001b[49m\u001b[43m)\u001b[49m\n\u001b[0;32m   2337\u001b[0m \u001b[38;5;28;01mreturn\u001b[39;00m buffer\u001b[38;5;241m.\u001b[39mraw[: return_count\u001b[38;5;241m.\u001b[39mvalue], ret\n",
      "File \u001b[1;32mc:\\Users\\jhaller\\AppData\\Local\\Programs\\Python\\Python312\\Lib\\site-packages\\pyvisa\\ctwrapper\\highlevel.py:226\u001b[0m, in \u001b[0;36mIVIVisaLibrary._return_handler\u001b[1;34m(self, ret_value, func, arguments)\u001b[0m\n\u001b[0;32m    223\u001b[0m         \u001b[38;5;66;03m# Set session back to a safe value\u001b[39;00m\n\u001b[0;32m    224\u001b[0m         session \u001b[38;5;241m=\u001b[39m \u001b[38;5;28;01mNone\u001b[39;00m\n\u001b[1;32m--> 226\u001b[0m \u001b[38;5;28;01mreturn\u001b[39;00m \u001b[38;5;28;43mself\u001b[39;49m\u001b[38;5;241;43m.\u001b[39;49m\u001b[43mhandle_return_value\u001b[49m\u001b[43m(\u001b[49m\u001b[43msession\u001b[49m\u001b[43m,\u001b[49m\u001b[43m \u001b[49m\u001b[43mret_value\u001b[49m\u001b[43m)\u001b[49m\n",
      "File \u001b[1;32mc:\\Users\\jhaller\\AppData\\Local\\Programs\\Python\\Python312\\Lib\\site-packages\\pyvisa\\highlevel.py:251\u001b[0m, in \u001b[0;36mVisaLibraryBase.handle_return_value\u001b[1;34m(self, session, status_code)\u001b[0m\n\u001b[0;32m    248\u001b[0m     \u001b[38;5;28mself\u001b[39m\u001b[38;5;241m.\u001b[39m_last_status_in_session[session] \u001b[38;5;241m=\u001b[39m rv\n\u001b[0;32m    250\u001b[0m \u001b[38;5;28;01mif\u001b[39;00m rv \u001b[38;5;241m<\u001b[39m \u001b[38;5;241m0\u001b[39m:\n\u001b[1;32m--> 251\u001b[0m     \u001b[38;5;28;01mraise\u001b[39;00m errors\u001b[38;5;241m.\u001b[39mVisaIOError(rv)\n\u001b[0;32m    253\u001b[0m \u001b[38;5;28;01mif\u001b[39;00m rv \u001b[38;5;129;01min\u001b[39;00m \u001b[38;5;28mself\u001b[39m\u001b[38;5;241m.\u001b[39missue_warning_on:\n\u001b[0;32m    254\u001b[0m     \u001b[38;5;28;01mif\u001b[39;00m session \u001b[38;5;129;01mand\u001b[39;00m rv \u001b[38;5;129;01mnot\u001b[39;00m \u001b[38;5;129;01min\u001b[39;00m \u001b[38;5;28mself\u001b[39m\u001b[38;5;241m.\u001b[39m_ignore_warning_in_session[session]:\n",
      "\u001b[1;31mVisaIOError\u001b[0m: VI_ERROR_TMO (-1073807339): Timeout expired before operation completed."
     ]
    }
   ],
   "source": [
    "import pyvisa\n",
    "import time\n",
    "\n",
    "# Initialize the VISA resource manager\n",
    "rm = pyvisa.ResourceManager()\n",
    "\n",
    "# Open the connection to the Keithley 6221\n",
    "keithley6221 = rm.open_resource('GPIB0::12::INSTR')\n",
    "\n",
    "# Set a longer timeout (in milliseconds)\n",
    "keithley6221.timeout = 10000  # 10000 milliseconds = 10 seconds\n",
    "\n",
    "# Verify the connection to the 6221 by querying its ID\n",
    "print(\"Keithley 6221 ID: \", keithley6221.query('*IDN?'))\n",
    "\n",
    "# Pause to ensure the command has time to execute\n",
    "#time.sleep(1)\n",
    "\n",
    "# Switch communication mode to RS-232\n",
    "#keithley6221.write('SYST:COMM:SER:SEND \"INIT\"')  # Example command to initiate RS-232 mode\n",
    "\n",
    "# Wait for the instrument to complete the initialization process\n",
    "#time.sleep(5)  # Adjust the sleep time based on initialization requirements\n",
    "\n",
    "# Configure the 6221 to send a command to the 2182A via RS-232\n",
    "keithley6221.write(':SYST:COMM:SERIal:SEND \"ID?\"')\n",
    "\n",
    "# Pause to give the 2182A time to respond\n",
    "#time.sleep(1)\n",
    "\n",
    "# Attempt to read the response from the 2182A\n",
    "response = keithley6221.query(':SYST:COMM:SERIal:SEND \"*rst\"')\n",
    "# Print the response from the 2182A\n",
    "print(\"Response from Keithley 2182A: \", response)\n",
    "\n",
    "# Close the connection\n",
    "keithley6221.close()\n"
   ]
  },
  {
   "cell_type": "code",
   "execution_count": 7,
   "metadata": {},
   "outputs": [
    {
     "name": "stdout",
     "output_type": "stream",
     "text": [
      "Keithley 6221 ID:  KEITHLEY INSTRUMENTS INC.,MODEL 6221,4483467,D04  /700x \n",
      "\n",
      "Error communicating with the 2182A: VI_ERROR_TMO (-1073807339): Timeout expired before operation completed.\n"
     ]
    }
   ],
   "source": [
    "import pyvisa\n",
    "import time\n",
    "\n",
    "# Initialize the VISA resource manager\n",
    "rm = pyvisa.ResourceManager()\n",
    "\n",
    "# Open the connection to the Keithley 6221\n",
    "keithley6221 = rm.open_resource('GPIB0::12::INSTR')\n",
    "\n",
    "# Set a longer timeout (in milliseconds)\n",
    "keithley6221.timeout = 10000  # 10000 milliseconds = 10 seconds\n",
    "\n",
    "# Verify the connection to the 6221 by querying its ID\n",
    "print(\"Keithley 6221 ID: \", keithley6221.query('*IDN?'))\n",
    "\n",
    "# Pause to ensure the command has time to execute\n",
    "time.sleep(1)\n",
    "\n",
    "# Switch communication mode to RS-232\n",
    "keithley6221.write('SYST:COMM:SER:BAUD 9600')  # Set baud rate\n",
    "keithley6221.write('SYST:COMM:SER:PAR NONE')  # Set parity\n",
    "keithley6221.write('SYST:COMM:SER:SBIT 1')  # Set stop bits\n",
    "keithley6221.write('SYST:COMM:SER:TERM CR')  # Set terminator\n",
    "keithley6221.write('SYST:COMM:SER:DATA 8')  # Set data bits\n",
    "\n",
    "# Wait for the instrument to complete the initialization process\n",
    "time.sleep(5)  # Adjust the sleep time based on initialization requirements\n",
    "\n",
    "# Clear the output buffer\n",
    "keithley6221.clear()\n",
    "\n",
    "# Configure the 6221 to send a command to the 2182A via RS-232\n",
    "keithley6221.write('SYST:COMM:SER:SEND \"IDN?\"')\n",
    "\n",
    "# Pause to give the 2182A time to respond\n",
    "time.sleep(1)\n",
    "\n",
    "try:\n",
    "    # Attempt to read the response from the 2182A\n",
    "    response = keithley6221.query('SYST:COMM:SER:RECEIVE?')\n",
    "    # Print the response from the 2182A\n",
    "    print(\"Response from Keithley 2182A: \", response)\n",
    "except pyvisa.errors.VisaIOError as e:\n",
    "    print(f\"Error communicating with the 2182A: {e}\")\n",
    "\n",
    "# Close the connection\n",
    "keithley6221.close()\n"
   ]
  },
  {
   "cell_type": "code",
   "execution_count": 8,
   "metadata": {},
   "outputs": [
    {
     "name": "stdout",
     "output_type": "stream",
     "text": [
      "Keithley 6221 ID:  KEITHLEY INSTRUMENTS INC.,MODEL 6221,4483467,D04  /700x \n",
      "\n",
      "Error communicating with the 2182A: VI_ERROR_TMO (-1073807339): Timeout expired before operation completed.\n"
     ]
    }
   ],
   "source": [
    "import pyvisa\n",
    "import time\n",
    "\n",
    "# Initialize the VISA resource manager\n",
    "rm = pyvisa.ResourceManager()\n",
    "\n",
    "# Open the connection to the Keithley 6221\n",
    "keithley6221 = rm.open_resource('GPIB0::12::INSTR')\n",
    "\n",
    "# Set a longer timeout (in milliseconds)\n",
    "keithley6221.timeout = 10000  # 10000 milliseconds = 10 seconds\n",
    "\n",
    "# Verify the connection to the 6221 by querying its ID\n",
    "print(\"Keithley 6221 ID: \", keithley6221.query('*IDN?'))\n",
    "\n",
    "# Pause to ensure the command has time to execute\n",
    "time.sleep(1)\n",
    "\n",
    "# Configure RS-232 settings on the 6221\n",
    "keithley6221.write('SYST:COMM:SER:BAUD 9600')  # Set baud rate\n",
    "keithley6221.write('SYST:COMM:SER:PAR NONE')  # Set parity\n",
    "keithley6221.write('SYST:COMM:SER:SBIT 1')  # Set stop bits\n",
    "keithley6221.write('SYST:COMM:SER:TERM CR')  # Set terminator\n",
    "keithley6221.write('SYST:COMM:SER:DATA 8')  # Set data bits\n",
    "\n",
    "# Pause to ensure settings are applied\n",
    "time.sleep(1)\n",
    "\n",
    "# Clear the output buffer\n",
    "keithley6221.clear()\n",
    "\n",
    "# Switch the 6221 to RS-232 mode\n",
    "# Assuming the command 'SYST:COMM:SER:SEND' switches to RS-232 mode; if not, replace it with the correct command.\n",
    "keithley6221.write('SYST:COMM:SER:SEND')\n",
    "\n",
    "# Wait for the instrument to complete the initialization process\n",
    "time.sleep(5)  # Adjust the sleep time based on initialization requirements\n",
    "\n",
    "# Configure the 6221 to send a command to the 2182A via RS-232\n",
    "keithley6221.write('SYST:COMM:SER:SEND \"IDN?\"')\n",
    "\n",
    "# Pause to give the 2182A time to respond\n",
    "time.sleep(1)\n",
    "\n",
    "try:\n",
    "    # Attempt to read the response from the 2182A\n",
    "    response = keithley6221.query('SYST:COMM:SER:RECEIVE?')\n",
    "    # Print the response from the 2182A\n",
    "    print(\"Response from Keithley 2182A: \", response)\n",
    "except pyvisa.errors.VisaIOError as e:\n",
    "    print(f\"Error communicating with the 2182A: {e}\")\n",
    "\n",
    "# Close the connection\n",
    "keithley6221.close()\n"
   ]
  },
  {
   "cell_type": "code",
   "execution_count": 17,
   "metadata": {},
   "outputs": [
    {
     "name": "stdout",
     "output_type": "stream",
     "text": [
      "Keithley 6221 ID:  KEITHLEY INSTRUMENTS INC.,MODEL 6221,4483467,D04  /700x \n",
      "\n",
      "VISA IO Error: VI_ERROR_TMO (-1073807339): Timeout expired before operation completed.\n"
     ]
    }
   ],
   "source": [
    "import pyvisa\n",
    "\n",
    "# Initialize the VISA resource manager\n",
    "rm = pyvisa.ResourceManager()\n",
    "\n",
    "# Open the connection to the Keithley 6221\n",
    "keithley6221 = rm.open_resource('GPIB0::12::INSTR')\n",
    "\n",
    "# Verify the connection to the 6221 by querying its ID\n",
    "print(\"Keithley 6221 ID: \", keithley6221.query('*IDN?'))\n",
    "\n",
    "# Configure the 6221 to communicate with the 2182A\n",
    "try:\n",
    "    # Set the RS-232 communication parameters\n",
    "    keithley6221.write('SYST:COMM:SER:BAUD 19200')\n",
    "    keithley6221.write('SYST:COMM:SER:PARITY NONE')\n",
    "    keithley6221.write('SYST:COMM:SER:SBITS 1')\n",
    "    keithley6221.write('SYST:COMM:SER:LAN 2182A')\n",
    "\n",
    "    # Send a command to the 2182A to query its ID\n",
    "    keithley6221.write('SYST:COMM:SER:SEND \"*IDN?\"')\n",
    "\n",
    "    # Read the response from the 2182A\n",
    "    response = keithley6221.query('SYST:COMM:SER:REC?')\n",
    "    print(\"Keithley 2182A ID: \", response)\n",
    "except pyvisa.errors.VisaIOError as e:\n",
    "    print(f\"VISA IO Error: {e}\")\n",
    "except Exception as e:\n",
    "    print(f\"Error: {e}\")\n",
    "\n",
    "# Close the connection\n",
    "keithley6221.close()\n"
   ]
  },
  {
   "cell_type": "code",
   "execution_count": 18,
   "metadata": {},
   "outputs": [
    {
     "name": "stdout",
     "output_type": "stream",
     "text": [
      "Keithley 6221 ID:  KEITHLEY INSTRUMENTS INC.,MODEL 6221,4483467,D04  /700x \n",
      "\n",
      "Keithley 2182A Presence:  1\n",
      "\n"
     ]
    }
   ],
   "source": [
    "import pyvisa\n",
    "\n",
    "# Initialize the VISA resource manager\n",
    "rm = pyvisa.ResourceManager()\n",
    "\n",
    "# Open the connection to the Keithley 6221\n",
    "keithley6221 = rm.open_resource('GPIB0::12::INSTR')\n",
    "\n",
    "# Verify the connection to the 6221 by querying its ID\n",
    "print(\"Keithley 6221 ID: \", keithley6221.query('*IDN?'))\n",
    "\n",
    "# Ensure that the 6221 is configured to send commands to the 2182A\n",
    "try:\n",
    "    # Set the RS-232 communication parameters for the 6221\n",
    "    keithley6221.write('SYST:COMM:SER:BAUD 19200')\n",
    "    keithley6221.write('SYST:COMM:SER:PARITY NONE')\n",
    "    keithley6221.write('SYST:COMM:SER:SBITS 1')\n",
    "\n",
    "    # Send the correct command to check the presence of the 2182A\n",
    "    response = keithley6221.query('SOUR:DELT:NVPR?')\n",
    "    print(\"Keithley 2182A Presence: \", response)\n",
    "except pyvisa.errors.VisaIOError as e:\n",
    "    print(f\"VISA IO Error: {e}\")\n",
    "except Exception as e:\n",
    "    print(f\"Error: {e}\")\n",
    "\n",
    "# Close the connection\n",
    "keithley6221.close()\n"
   ]
  },
  {
   "cell_type": "code",
   "execution_count": 28,
   "metadata": {},
   "outputs": [
    {
     "ename": "VisaIOError",
     "evalue": "VI_ERROR_RSRC_NFOUND (-1073807343): Insufficient location information or the requested device or resource is not present in the system.",
     "output_type": "error",
     "traceback": [
      "\u001b[1;31m---------------------------------------------------------------------------\u001b[0m",
      "\u001b[1;31mVisaIOError\u001b[0m                               Traceback (most recent call last)",
      "Cell \u001b[1;32mIn[28], line 7\u001b[0m\n\u001b[0;32m      4\u001b[0m rm \u001b[38;5;241m=\u001b[39m pyvisa\u001b[38;5;241m.\u001b[39mResourceManager()\n\u001b[0;32m      6\u001b[0m \u001b[38;5;66;03m# Open the connection to the Keithley 6221 using the correct IP address and connection settings\u001b[39;00m\n\u001b[1;32m----> 7\u001b[0m keithley6221 \u001b[38;5;241m=\u001b[39m \u001b[43mrm\u001b[49m\u001b[38;5;241;43m.\u001b[39;49m\u001b[43mopen_resource\u001b[49m\u001b[43m(\u001b[49m\u001b[38;5;124;43m'\u001b[39;49m\u001b[38;5;124;43mTCPIP::169.254.47.134::INSTR\u001b[39;49m\u001b[38;5;124;43m'\u001b[39;49m\u001b[43m)\u001b[49m\n\u001b[0;32m      9\u001b[0m \u001b[38;5;66;03m# Verify the connection to the 6221 by querying its ID\u001b[39;00m\n\u001b[0;32m     10\u001b[0m \u001b[38;5;28mprint\u001b[39m(\u001b[38;5;124m\"\u001b[39m\u001b[38;5;124mKeithley 6221 ID: \u001b[39m\u001b[38;5;124m\"\u001b[39m, keithley6221\u001b[38;5;241m.\u001b[39mquery(\u001b[38;5;124m'\u001b[39m\u001b[38;5;124m*IDN?\u001b[39m\u001b[38;5;124m'\u001b[39m))\n",
      "File \u001b[1;32mc:\\Users\\jhaller\\AppData\\Local\\Programs\\Python\\Python312\\Lib\\site-packages\\pyvisa\\highlevel.py:3292\u001b[0m, in \u001b[0;36mResourceManager.open_resource\u001b[1;34m(self, resource_name, access_mode, open_timeout, resource_pyclass, **kwargs)\u001b[0m\n\u001b[0;32m   3286\u001b[0m     \u001b[38;5;28;01mif\u001b[39;00m \u001b[38;5;129;01mnot\u001b[39;00m present:\n\u001b[0;32m   3287\u001b[0m         \u001b[38;5;28;01mraise\u001b[39;00m \u001b[38;5;167;01mValueError\u001b[39;00m(\n\u001b[0;32m   3288\u001b[0m             \u001b[38;5;124m\"\u001b[39m\u001b[38;5;132;01m%r\u001b[39;00m\u001b[38;5;124m is not a valid attribute for type \u001b[39m\u001b[38;5;132;01m%s\u001b[39;00m\u001b[38;5;124m\"\u001b[39m\n\u001b[0;32m   3289\u001b[0m             \u001b[38;5;241m%\u001b[39m (key, res\u001b[38;5;241m.\u001b[39m\u001b[38;5;18m__class__\u001b[39m\u001b[38;5;241m.\u001b[39m\u001b[38;5;18m__name__\u001b[39m)\n\u001b[0;32m   3290\u001b[0m         )\n\u001b[1;32m-> 3292\u001b[0m \u001b[43mres\u001b[49m\u001b[38;5;241;43m.\u001b[39;49m\u001b[43mopen\u001b[49m\u001b[43m(\u001b[49m\u001b[43maccess_mode\u001b[49m\u001b[43m,\u001b[49m\u001b[43m \u001b[49m\u001b[43mopen_timeout\u001b[49m\u001b[43m)\u001b[49m\n\u001b[0;32m   3294\u001b[0m \u001b[38;5;28;01mfor\u001b[39;00m key, value \u001b[38;5;129;01min\u001b[39;00m kwargs\u001b[38;5;241m.\u001b[39mitems():\n\u001b[0;32m   3295\u001b[0m     \u001b[38;5;28msetattr\u001b[39m(res, key, value)\n",
      "File \u001b[1;32mc:\\Users\\jhaller\\AppData\\Local\\Programs\\Python\\Python312\\Lib\\site-packages\\pyvisa\\resources\\resource.py:281\u001b[0m, in \u001b[0;36mResource.open\u001b[1;34m(self, access_mode, open_timeout)\u001b[0m\n\u001b[0;32m    277\u001b[0m logger\u001b[38;5;241m.\u001b[39mdebug(\u001b[38;5;124m\"\u001b[39m\u001b[38;5;132;01m%s\u001b[39;00m\u001b[38;5;124m - opening ...\u001b[39m\u001b[38;5;124m\"\u001b[39m, \u001b[38;5;28mself\u001b[39m\u001b[38;5;241m.\u001b[39m_resource_name, extra\u001b[38;5;241m=\u001b[39m\u001b[38;5;28mself\u001b[39m\u001b[38;5;241m.\u001b[39m_logging_extra)\n\u001b[0;32m    278\u001b[0m \u001b[38;5;28;01mwith\u001b[39;00m \u001b[38;5;28mself\u001b[39m\u001b[38;5;241m.\u001b[39m_resource_manager\u001b[38;5;241m.\u001b[39mignore_warning(\n\u001b[0;32m    279\u001b[0m     constants\u001b[38;5;241m.\u001b[39mStatusCode\u001b[38;5;241m.\u001b[39msuccess_device_not_present\n\u001b[0;32m    280\u001b[0m ):\n\u001b[1;32m--> 281\u001b[0m     \u001b[38;5;28mself\u001b[39m\u001b[38;5;241m.\u001b[39msession, status \u001b[38;5;241m=\u001b[39m \u001b[38;5;28;43mself\u001b[39;49m\u001b[38;5;241;43m.\u001b[39;49m\u001b[43m_resource_manager\u001b[49m\u001b[38;5;241;43m.\u001b[39;49m\u001b[43mopen_bare_resource\u001b[49m\u001b[43m(\u001b[49m\n\u001b[0;32m    282\u001b[0m \u001b[43m        \u001b[49m\u001b[38;5;28;43mself\u001b[39;49m\u001b[38;5;241;43m.\u001b[39;49m\u001b[43m_resource_name\u001b[49m\u001b[43m,\u001b[49m\u001b[43m \u001b[49m\u001b[43maccess_mode\u001b[49m\u001b[43m,\u001b[49m\u001b[43m \u001b[49m\u001b[43mopen_timeout\u001b[49m\n\u001b[0;32m    283\u001b[0m \u001b[43m    \u001b[49m\u001b[43m)\u001b[49m\n\u001b[0;32m    285\u001b[0m     \u001b[38;5;28;01mif\u001b[39;00m status \u001b[38;5;241m==\u001b[39m constants\u001b[38;5;241m.\u001b[39mStatusCode\u001b[38;5;241m.\u001b[39msuccess_device_not_present:\n\u001b[0;32m    286\u001b[0m         \u001b[38;5;66;03m# The device was not ready when we opened the session.\u001b[39;00m\n\u001b[0;32m    287\u001b[0m         \u001b[38;5;66;03m# Now it gets five seconds more to become ready.\u001b[39;00m\n\u001b[0;32m    288\u001b[0m         \u001b[38;5;66;03m# Every 0.1 seconds we probe it with viClear.\u001b[39;00m\n\u001b[0;32m    289\u001b[0m         start_time \u001b[38;5;241m=\u001b[39m time\u001b[38;5;241m.\u001b[39mtime()\n",
      "File \u001b[1;32mc:\\Users\\jhaller\\AppData\\Local\\Programs\\Python\\Python312\\Lib\\site-packages\\pyvisa\\highlevel.py:3217\u001b[0m, in \u001b[0;36mResourceManager.open_bare_resource\u001b[1;34m(self, resource_name, access_mode, open_timeout)\u001b[0m\n\u001b[0;32m   3188\u001b[0m \u001b[38;5;28;01mdef\u001b[39;00m \u001b[38;5;21mopen_bare_resource\u001b[39m(\n\u001b[0;32m   3189\u001b[0m     \u001b[38;5;28mself\u001b[39m,\n\u001b[0;32m   3190\u001b[0m     resource_name: \u001b[38;5;28mstr\u001b[39m,\n\u001b[0;32m   3191\u001b[0m     access_mode: constants\u001b[38;5;241m.\u001b[39mAccessModes \u001b[38;5;241m=\u001b[39m constants\u001b[38;5;241m.\u001b[39mAccessModes\u001b[38;5;241m.\u001b[39mno_lock,\n\u001b[0;32m   3192\u001b[0m     open_timeout: \u001b[38;5;28mint\u001b[39m \u001b[38;5;241m=\u001b[39m constants\u001b[38;5;241m.\u001b[39mVI_TMO_IMMEDIATE,\n\u001b[0;32m   3193\u001b[0m ) \u001b[38;5;241m-\u001b[39m\u001b[38;5;241m>\u001b[39m Tuple[VISASession, StatusCode]:\n\u001b[0;32m   3194\u001b[0m \u001b[38;5;250m    \u001b[39m\u001b[38;5;124;03m\"\"\"Open the specified resource without wrapping into a class.\u001b[39;00m\n\u001b[0;32m   3195\u001b[0m \n\u001b[0;32m   3196\u001b[0m \u001b[38;5;124;03m    Parameters\u001b[39;00m\n\u001b[1;32m   (...)\u001b[0m\n\u001b[0;32m   3215\u001b[0m \n\u001b[0;32m   3216\u001b[0m \u001b[38;5;124;03m    \"\"\"\u001b[39;00m\n\u001b[1;32m-> 3217\u001b[0m     \u001b[38;5;28;01mreturn\u001b[39;00m \u001b[38;5;28;43mself\u001b[39;49m\u001b[38;5;241;43m.\u001b[39;49m\u001b[43mvisalib\u001b[49m\u001b[38;5;241;43m.\u001b[39;49m\u001b[43mopen\u001b[49m\u001b[43m(\u001b[49m\u001b[38;5;28;43mself\u001b[39;49m\u001b[38;5;241;43m.\u001b[39;49m\u001b[43msession\u001b[49m\u001b[43m,\u001b[49m\u001b[43m \u001b[49m\u001b[43mresource_name\u001b[49m\u001b[43m,\u001b[49m\u001b[43m \u001b[49m\u001b[43maccess_mode\u001b[49m\u001b[43m,\u001b[49m\u001b[43m \u001b[49m\u001b[43mopen_timeout\u001b[49m\u001b[43m)\u001b[49m\n",
      "File \u001b[1;32mc:\\Users\\jhaller\\AppData\\Local\\Programs\\Python\\Python312\\Lib\\site-packages\\pyvisa\\ctwrapper\\functions.py:1850\u001b[0m, in \u001b[0;36mopen\u001b[1;34m(library, session, resource_name, access_mode, open_timeout)\u001b[0m\n\u001b[0;32m   1846\u001b[0m out_session \u001b[38;5;241m=\u001b[39m ViSession()\n\u001b[0;32m   1848\u001b[0m \u001b[38;5;66;03m# [ViSession, ViRsrc, ViAccessMode, ViUInt32, ViPSession]\u001b[39;00m\n\u001b[0;32m   1849\u001b[0m \u001b[38;5;66;03m# ViRsrc converts from (str, unicode, bytes) to bytes\u001b[39;00m\n\u001b[1;32m-> 1850\u001b[0m ret \u001b[38;5;241m=\u001b[39m \u001b[43mlibrary\u001b[49m\u001b[38;5;241;43m.\u001b[39;49m\u001b[43mviOpen\u001b[49m\u001b[43m(\u001b[49m\n\u001b[0;32m   1851\u001b[0m \u001b[43m    \u001b[49m\u001b[43msession\u001b[49m\u001b[43m,\u001b[49m\u001b[43m \u001b[49m\u001b[43mresource_name\u001b[49m\u001b[43m,\u001b[49m\u001b[43m \u001b[49m\u001b[43maccess_mode\u001b[49m\u001b[43m,\u001b[49m\u001b[43m \u001b[49m\u001b[43mopen_timeout\u001b[49m\u001b[43m,\u001b[49m\u001b[43m \u001b[49m\u001b[43mbyref\u001b[49m\u001b[43m(\u001b[49m\u001b[43mout_session\u001b[49m\u001b[43m)\u001b[49m\n\u001b[0;32m   1852\u001b[0m \u001b[43m\u001b[49m\u001b[43m)\u001b[49m\n\u001b[0;32m   1853\u001b[0m \u001b[38;5;28;01mreturn\u001b[39;00m out_session\u001b[38;5;241m.\u001b[39mvalue, ret\n",
      "File \u001b[1;32mc:\\Users\\jhaller\\AppData\\Local\\Programs\\Python\\Python312\\Lib\\site-packages\\pyvisa\\ctwrapper\\highlevel.py:226\u001b[0m, in \u001b[0;36mIVIVisaLibrary._return_handler\u001b[1;34m(self, ret_value, func, arguments)\u001b[0m\n\u001b[0;32m    223\u001b[0m         \u001b[38;5;66;03m# Set session back to a safe value\u001b[39;00m\n\u001b[0;32m    224\u001b[0m         session \u001b[38;5;241m=\u001b[39m \u001b[38;5;28;01mNone\u001b[39;00m\n\u001b[1;32m--> 226\u001b[0m \u001b[38;5;28;01mreturn\u001b[39;00m \u001b[38;5;28;43mself\u001b[39;49m\u001b[38;5;241;43m.\u001b[39;49m\u001b[43mhandle_return_value\u001b[49m\u001b[43m(\u001b[49m\u001b[43msession\u001b[49m\u001b[43m,\u001b[49m\u001b[43m \u001b[49m\u001b[43mret_value\u001b[49m\u001b[43m)\u001b[49m\n",
      "File \u001b[1;32mc:\\Users\\jhaller\\AppData\\Local\\Programs\\Python\\Python312\\Lib\\site-packages\\pyvisa\\highlevel.py:251\u001b[0m, in \u001b[0;36mVisaLibraryBase.handle_return_value\u001b[1;34m(self, session, status_code)\u001b[0m\n\u001b[0;32m    248\u001b[0m     \u001b[38;5;28mself\u001b[39m\u001b[38;5;241m.\u001b[39m_last_status_in_session[session] \u001b[38;5;241m=\u001b[39m rv\n\u001b[0;32m    250\u001b[0m \u001b[38;5;28;01mif\u001b[39;00m rv \u001b[38;5;241m<\u001b[39m \u001b[38;5;241m0\u001b[39m:\n\u001b[1;32m--> 251\u001b[0m     \u001b[38;5;28;01mraise\u001b[39;00m errors\u001b[38;5;241m.\u001b[39mVisaIOError(rv)\n\u001b[0;32m    253\u001b[0m \u001b[38;5;28;01mif\u001b[39;00m rv \u001b[38;5;129;01min\u001b[39;00m \u001b[38;5;28mself\u001b[39m\u001b[38;5;241m.\u001b[39missue_warning_on:\n\u001b[0;32m    254\u001b[0m     \u001b[38;5;28;01mif\u001b[39;00m session \u001b[38;5;129;01mand\u001b[39;00m rv \u001b[38;5;129;01mnot\u001b[39;00m \u001b[38;5;129;01min\u001b[39;00m \u001b[38;5;28mself\u001b[39m\u001b[38;5;241m.\u001b[39m_ignore_warning_in_session[session]:\n",
      "\u001b[1;31mVisaIOError\u001b[0m: VI_ERROR_RSRC_NFOUND (-1073807343): Insufficient location information or the requested device or resource is not present in the system."
     ]
    }
   ],
   "source": [
    "import pyvisa\n",
    "\n",
    "# Initialize the VISA resource manager\n",
    "rm = pyvisa.ResourceManager()\n",
    "\n",
    "# Open the connection to the Keithley 6221 using the correct IP address and connection settings\n",
    "keithley6221 = rm.open_resource('TCPIP::169.254.47.134::INSTR')\n",
    "\n",
    "# Verify the connection to the 6221 by querying its ID\n",
    "print(\"Keithley 6221 ID: \", keithley6221.query('*IDN?'))\n",
    "\n",
    "# Ensure that the 6221 is configured to send commands to the 2182A\n",
    "try:\n",
    "    # Set and verify the RS-232 baud rate\n",
    "    keithley6221.write('SYST:COMM:SER:BAUD 19200')\n",
    "    baud_rate = keithley6221.query('SYST:COMM:SER:BAUD?')\n",
    "    print(f\"Baud Rate set to: {baud_rate.strip()}\")\n",
    "\n",
    "    # Set and verify the RS-232 parity\n",
    "    # keithley6221.write('SYST:COMM:SER:PARITY NONE')\n",
    "    # parity = keithley6221.query('SYST:COMM:SER:PARITY?')\n",
    "    # print(f\"Parity set to: {parity.strip()}\")\n",
    "\n",
    "    # Set and verify the RS-232 stop bits\n",
    "    # keithley6221.write('SYST:COMM:SER:SBITS 1')\n",
    "    # stop_bits = keithley6221.query('SYST:COMM:SER:SBITS?')\n",
    "    # print(f\"Stop Bits set to: {stop_bits.strip()}\")\n",
    "\n",
    "    # Send the correct command to check the presence of the 2182A\n",
    "    response = keithley6221.query('SOUR:DELT:NVPR?')\n",
    "    print(\"Keithley 2182A Presence: \", response.strip())\n",
    "except pyvisa.errors.VisaIOError as e:\n",
    "    print(f\"VISA IO Error: {e}\")\n",
    "except Exception as e:\n",
    "    print(f\"Error: {e}\")\n",
    "\n",
    "# Close the connection\n",
    "keithley6221.close()\n"
   ]
  },
  {
   "cell_type": "code",
   "execution_count": 1,
   "metadata": {},
   "outputs": [
    {
     "name": "stdout",
     "output_type": "stream",
     "text": [
      "Keithley 6221 ID:  KEITHLEY INSTRUMENTS INC.,MODEL 6221,4483467,D04  /700x \n",
      "\n",
      "Keithley 2182A Presence:  1\n"
     ]
    }
   ],
   "source": [
    "import pyvisa\n",
    "\n",
    "# Initialize the VISA resource manager\n",
    "rm = pyvisa.ResourceManager()\n",
    "\n",
    "# Open the connection to the Keithley 6221 using the correct IP address and connection settings\n",
    "keithley6221 = rm.open_resource('GPIB0::12::INSTR')\n",
    "\n",
    "# Verify the connection to the 6221 by querying its ID\n",
    "print(\"Keithley 6221 ID: \", keithley6221.query('*IDN?'))\n",
    "\n",
    "try:\n",
    "    # Send the command to check the presence of the 2182A\n",
    "    response = keithley6221.query('SOUR:DELT:NVPR?')\n",
    "    print(\"Keithley 2182A Presence: \", response.strip())\n",
    "except pyvisa.errors.VisaIOError as e:\n",
    "    print(f\"VISA IO Error: {e}\")\n",
    "except Exception as e:\n",
    "    print(f\"Error: {e}\")\n",
    "\n",
    "# Close the connection\n",
    "keithley6221.close()\n"
   ]
  }
 ],
 "metadata": {
  "kernelspec": {
   "display_name": "Python 3",
   "language": "python",
   "name": "python3"
  },
  "language_info": {
   "codemirror_mode": {
    "name": "ipython",
    "version": 3
   },
   "file_extension": ".py",
   "mimetype": "text/x-python",
   "name": "python",
   "nbconvert_exporter": "python",
   "pygments_lexer": "ipython3",
   "version": "3.12.4"
  }
 },
 "nbformat": 4,
 "nbformat_minor": 2
}
