{
 "cells": [
  {
   "cell_type": "code",
   "execution_count": 3,
   "metadata": {},
   "outputs": [
    {
     "name": "stdout",
     "output_type": "stream",
     "text": [
      "Keithley 6221 ID:  KEITHLEY INSTRUMENTS INC.,MODEL 6221,4483467,D04  /700x \n",
      "\n"
     ]
    }
   ],
   "source": [
    "import pyvisa\n",
    "import time\n",
    "\n",
    "# Initialize the VISA resource manager\n",
    "rm = pyvisa.ResourceManager()\n",
    "\n",
    "# Open the connection to the Keithley 6221 using the correct IP address and connection settings\n",
    "keithley6221 = rm.open_resource('GPIB0::12::INSTR')\n",
    "\n",
    "# Verify the connection to the 6221 by querying its ID\n",
    "print(\"Keithley 6221 ID: \", keithley6221.query('*IDN?'))\n",
    "\n",
    "# Define the sweep parameters\n",
    "current_values = [0.5e-3, 1e-3, 2e-3, 3e-3, 4e-3, 5e-3, 6e-3, 7e-3, 8e-3, 9e-3, 10e-3]\n",
    "on_time = 0.0005  # 500 microseconds\n",
    "off_time = 0.0005  # 500 microseconds\n",
    "num_steps = len(current_values)\n",
    "\n",
    "try:\n",
    "    # Reset the instrument to default settings\n",
    "    keithley6221.write('*RST')\n",
    "    time.sleep(2)\n",
    "\n",
    "    # Set the source to delta mode\n",
    "    keithley6221.write('SOUR:DELT:MODE ON')\n",
    "    \n",
    "    # Configure the 2182A to communicate with the 6221\n",
    "    #keithley6221.write('SOUR:DELT:NVPR 1')\n",
    "    keithley6221.write('SOUR:DELT:ARM')\n",
    "\n",
    "    # Set the delay between steps (on time and off time)\n",
    "    keithley6221.write(f'SOUR:DELT:INTL {on_time}')\n",
    "    keithley6221.write(f'SOUR:DELT:INTD {off_time}')\n",
    "\n",
    "    # Set the sweep to use the custom list of current values\n",
    "    keithley6221.write('SOUR:SWE:SPAC LIN')\n",
    "    keithley6221.write(f'SOUR:SWE:POIN {num_steps}')\n",
    "\n",
    "    # Load the custom sweep list\n",
    "    for current in current_values:\n",
    "        keithley6221.write(f'SOUR:LIST:CURR {current}')\n",
    "\n",
    "    # Enable output and start the sweep\n",
    "    keithley6221.write('OUTP ON')\n",
    "    keithley6221.write('INIT:IMM')\n",
    "\n",
    "    # Wait for the sweep to complete\n",
    "    time.sleep(on_time * num_steps + off_time * (num_steps - 1))\n",
    "\n",
    "    # Turn off the output\n",
    "    keithley6221.write('OUTP OFF')\n",
    "\n",
    "except pyvisa.errors.VisaIOError as e:\n",
    "    print(f\"VISA IO Error: {e}\")\n",
    "except Exception as e:\n",
    "    print(f\"Error: {e}\")\n",
    "finally:\n",
    "    # Close the connection\n",
    "    keithley6221.close()\n"
   ]
  }
 ],
 "metadata": {
  "kernelspec": {
   "display_name": "Python 3",
   "language": "python",
   "name": "python3"
  },
  "language_info": {
   "codemirror_mode": {
    "name": "ipython",
    "version": 3
   },
   "file_extension": ".py",
   "mimetype": "text/x-python",
   "name": "python",
   "nbconvert_exporter": "python",
   "pygments_lexer": "ipython3",
   "version": "3.12.4"
  }
 },
 "nbformat": 4,
 "nbformat_minor": 2
}
